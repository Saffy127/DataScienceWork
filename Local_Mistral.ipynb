{
 "cells": [
  {
   "cell_type": "code",
   "execution_count": 2,
   "id": "1f12d0fa-a00e-491a-92a0-565cedb9dec4",
   "metadata": {},
   "outputs": [
    {
     "name": "stdout",
     "output_type": "stream",
     "text": [
      "Requirement already satisfied: langchain in c:\\users\\isaac\\appdata\\local\\programs\\python\\python310\\lib\\site-packages (0.1.7)\n",
      "Requirement already satisfied: PyYAML>=5.3 in c:\\users\\isaac\\appdata\\local\\programs\\python\\python310\\lib\\site-packages (from langchain) (6.0)\n",
      "Requirement already satisfied: SQLAlchemy<3,>=1.4 in c:\\users\\isaac\\appdata\\local\\programs\\python\\python310\\lib\\site-packages (from langchain) (2.0.27)\n",
      "Requirement already satisfied: aiohttp<4.0.0,>=3.8.3 in c:\\users\\isaac\\appdata\\local\\programs\\python\\python310\\lib\\site-packages (from langchain) (3.8.4)\n",
      "Requirement already satisfied: async-timeout<5.0.0,>=4.0.0 in c:\\users\\isaac\\appdata\\local\\programs\\python\\python310\\lib\\site-packages (from langchain) (4.0.2)\n",
      "Requirement already satisfied: dataclasses-json<0.7,>=0.5.7 in c:\\users\\isaac\\appdata\\local\\programs\\python\\python310\\lib\\site-packages (from langchain) (0.6.4)\n",
      "Requirement already satisfied: jsonpatch<2.0,>=1.33 in c:\\users\\isaac\\appdata\\local\\programs\\python\\python310\\lib\\site-packages (from langchain) (1.33)\n",
      "Requirement already satisfied: langchain-community<0.1,>=0.0.20 in c:\\users\\isaac\\appdata\\local\\programs\\python\\python310\\lib\\site-packages (from langchain) (0.0.20)\n",
      "Requirement already satisfied: langchain-core<0.2,>=0.1.22 in c:\\users\\isaac\\appdata\\local\\programs\\python\\python310\\lib\\site-packages (from langchain) (0.1.23)\n",
      "Requirement already satisfied: langsmith<0.1,>=0.0.83 in c:\\users\\isaac\\appdata\\local\\programs\\python\\python310\\lib\\site-packages (from langchain) (0.0.87)\n",
      "Requirement already satisfied: numpy<2,>=1 in c:\\users\\isaac\\appdata\\local\\programs\\python\\python310\\lib\\site-packages (from langchain) (1.25.0)\n",
      "Requirement already satisfied: pydantic<3,>=1 in c:\\users\\isaac\\appdata\\local\\programs\\python\\python310\\lib\\site-packages (from langchain) (1.10.9)\n",
      "Requirement already satisfied: requests<3,>=2 in c:\\users\\isaac\\appdata\\local\\programs\\python\\python310\\lib\\site-packages (from langchain) (2.31.0)\n",
      "Requirement already satisfied: tenacity<9.0.0,>=8.1.0 in c:\\users\\isaac\\appdata\\local\\programs\\python\\python310\\lib\\site-packages (from langchain) (8.2.3)\n",
      "Requirement already satisfied: attrs>=17.3.0 in c:\\users\\isaac\\appdata\\local\\programs\\python\\python310\\lib\\site-packages (from aiohttp<4.0.0,>=3.8.3->langchain) (22.2.0)\n",
      "Requirement already satisfied: charset-normalizer<4.0,>=2.0 in c:\\users\\isaac\\appdata\\local\\programs\\python\\python310\\lib\\site-packages (from aiohttp<4.0.0,>=3.8.3->langchain) (3.1.0)\n",
      "Requirement already satisfied: multidict<7.0,>=4.5 in c:\\users\\isaac\\appdata\\local\\programs\\python\\python310\\lib\\site-packages (from aiohttp<4.0.0,>=3.8.3->langchain) (6.0.4)\n",
      "Requirement already satisfied: yarl<2.0,>=1.0 in c:\\users\\isaac\\appdata\\local\\programs\\python\\python310\\lib\\site-packages (from aiohttp<4.0.0,>=3.8.3->langchain) (1.8.2)\n",
      "Requirement already satisfied: frozenlist>=1.1.1 in c:\\users\\isaac\\appdata\\local\\programs\\python\\python310\\lib\\site-packages (from aiohttp<4.0.0,>=3.8.3->langchain) (1.3.3)\n",
      "Requirement already satisfied: aiosignal>=1.1.2 in c:\\users\\isaac\\appdata\\local\\programs\\python\\python310\\lib\\site-packages (from aiohttp<4.0.0,>=3.8.3->langchain) (1.3.1)\n",
      "Requirement already satisfied: marshmallow<4.0.0,>=3.18.0 in c:\\users\\isaac\\appdata\\local\\programs\\python\\python310\\lib\\site-packages (from dataclasses-json<0.7,>=0.5.7->langchain) (3.20.2)\n",
      "Requirement already satisfied: typing-inspect<1,>=0.4.0 in c:\\users\\isaac\\appdata\\local\\programs\\python\\python310\\lib\\site-packages (from dataclasses-json<0.7,>=0.5.7->langchain) (0.9.0)\n",
      "Requirement already satisfied: jsonpointer>=1.9 in c:\\users\\isaac\\appdata\\local\\programs\\python\\python310\\lib\\site-packages (from jsonpatch<2.0,>=1.33->langchain) (2.4)\n",
      "Requirement already satisfied: anyio<5,>=3 in c:\\users\\isaac\\appdata\\local\\programs\\python\\python310\\lib\\site-packages (from langchain-core<0.2,>=0.1.22->langchain) (3.7.0)\n",
      "Requirement already satisfied: packaging<24.0,>=23.2 in c:\\users\\isaac\\appdata\\local\\programs\\python\\python310\\lib\\site-packages (from langchain-core<0.2,>=0.1.22->langchain) (23.2)\n",
      "Requirement already satisfied: typing-extensions>=4.2.0 in c:\\users\\isaac\\appdata\\local\\programs\\python\\python310\\lib\\site-packages (from pydantic<3,>=1->langchain) (4.7.0)\n",
      "Requirement already satisfied: idna<4,>=2.5 in c:\\users\\isaac\\appdata\\local\\programs\\python\\python310\\lib\\site-packages (from requests<3,>=2->langchain) (3.4)\n",
      "Requirement already satisfied: urllib3<3,>=1.21.1 in c:\\users\\isaac\\appdata\\local\\programs\\python\\python310\\lib\\site-packages (from requests<3,>=2->langchain) (1.26.15)\n",
      "Requirement already satisfied: certifi>=2017.4.17 in c:\\users\\isaac\\appdata\\local\\programs\\python\\python310\\lib\\site-packages (from requests<3,>=2->langchain) (2022.12.7)\n",
      "Requirement already satisfied: greenlet!=0.4.17 in c:\\users\\isaac\\appdata\\local\\programs\\python\\python310\\lib\\site-packages (from SQLAlchemy<3,>=1.4->langchain) (3.0.3)\n",
      "Requirement already satisfied: sniffio>=1.1 in c:\\users\\isaac\\appdata\\local\\programs\\python\\python310\\lib\\site-packages (from anyio<5,>=3->langchain-core<0.2,>=0.1.22->langchain) (1.3.0)\n",
      "Requirement already satisfied: exceptiongroup in c:\\users\\isaac\\appdata\\local\\programs\\python\\python310\\lib\\site-packages (from anyio<5,>=3->langchain-core<0.2,>=0.1.22->langchain) (1.1.1)\n",
      "Requirement already satisfied: mypy-extensions>=0.3.0 in c:\\users\\isaac\\appdata\\local\\programs\\python\\python310\\lib\\site-packages (from typing-inspect<1,>=0.4.0->dataclasses-json<0.7,>=0.5.7->langchain) (1.0.0)\n",
      "Note: you may need to restart the kernel to use updated packages.\n"
     ]
    }
   ],
   "source": [
    "pip install langchain"
   ]
  },
  {
   "cell_type": "code",
   "execution_count": 4,
   "id": "85587288-1d92-4be8-8b71-2d9dc26a4b91",
   "metadata": {},
   "outputs": [
    {
     "data": {
      "text/plain": [
       "'C:\\\\Users\\\\Isaac\\\\ollamaWork'"
      ]
     },
     "execution_count": 4,
     "metadata": {},
     "output_type": "execute_result"
    }
   ],
   "source": [
    "pwd"
   ]
  },
  {
   "cell_type": "code",
   "execution_count": 3,
   "id": "6a3b53b0-473d-4db0-b30a-c8335d024105",
   "metadata": {},
   "outputs": [
    {
     "ename": "SyntaxError",
     "evalue": "invalid syntax (3705398690.py, line 1)",
     "output_type": "error",
     "traceback": [
      "\u001b[1;36m  Cell \u001b[1;32mIn[3], line 1\u001b[1;36m\u001b[0m\n\u001b[1;33m    pip3 install --upgrade pip\u001b[0m\n\u001b[1;37m         ^\u001b[0m\n\u001b[1;31mSyntaxError\u001b[0m\u001b[1;31m:\u001b[0m invalid syntax\n"
     ]
    }
   ],
   "source": [
    "pip install --upgrade pip"
   ]
  },
  {
   "cell_type": "code",
   "execution_count": 1,
   "id": "8fcec403-f7ea-41e8-844f-94f737d18a5d",
   "metadata": {},
   "outputs": [],
   "source": [
    "from langchain_community.llms import Ollama"
   ]
  },
  {
   "cell_type": "code",
   "execution_count": 2,
   "id": "f58f4e71-869f-4981-bca7-a12ccaf090ce",
   "metadata": {},
   "outputs": [],
   "source": [
    "llm = Ollama(model=\"mistral\")"
   ]
  },
  {
   "cell_type": "code",
   "execution_count": 26,
   "id": "c2d4b84f-4c6e-4cea-ae43-812b480ab7c1",
   "metadata": {},
   "outputs": [
    {
     "data": {
      "text/plain": [
       "' I\\'m glad you asked for a funny Python script! Here\\'s a simple one that defines a class called \"Dino\" with some humorous methods:\\n\\n```python\\nclass Dino:\\n    def __init__(self, name):\\n        self.name = name\\n        self.mood = \"happy\"\\n\\n    def eat(self, food):\\n        if food == \"cake\":\\n            self.mood = \"confused\"\\n            print(f\"{self.name} : Why is there a CAKE in the jungle?!!\")\\n        elif food == \"meat\":\\n            self.mood = \"satisfied\"\\n            print(f\"{self.name} nom nom, delicious meat!\")\\n        else:\\n            self.mood = \"disappointed\"\\n            print(f\"{self.name} : Ugh, I don\\'t like {food}\")\\n\\n    def dance(self):\\n        if self.mood == \"happy\":\\n            self.mood = \"silly\"\\n            print(f\"{self.name} starts to dance the \\'T-Rex Two Step\\'!\")\\n        else:\\n            self.mood = \"embarrassed\"\\n            print(f\"{self.name} : Why am I even trying to dance? I feel {self.mood.lower()}.\")\\n\\ndino1 = Dino(\"Chompy\")\\ndino1.eat(\"cake\")\\ndino1.dance()\\ndino1.eat(\"meat\")\\ndino1.dance()\\n```\\n\\nIn this script, the `Dino` class has an initializer that sets its name and mood to \"happy,\" as well as two methods: `eat()` and `dance()`. The `eat()` method changes the dinosaur\\'s mood based on what it eats. The `dance()` method also changes the dinosaur\\'s mood when it dances, depending on whether or not it feels like dancing in the first place.\\n\\nThis script adds a little humor by having Chompy express confusion and disappointment when eating unconventional foods and feeling embarrassed when trying to dance in a bad mood. Give it a try!'"
      ]
     },
     "execution_count": 26,
     "metadata": {},
     "output_type": "execute_result"
    }
   ],
   "source": [
    "llm.invoke(\"Wrtie a Python Script that is funny\")"
   ]
  },
  {
   "cell_type": "code",
   "execution_count": 5,
   "id": "6f0e6fe3-6d08-4180-9296-b03bf07468ef",
   "metadata": {},
   "outputs": [
    {
     "data": {
      "text/plain": [
       "\" It is not clear from your question what specific event or controversy you are referring to when asking about its impact on Kanye West's legacy. Kanye West is a renowned American rapper, singer, and producer who has had an influential career in music spanning over two decades. His artistic contributions have included groundbreaking albums, innovative production techniques, and bold fashion statements.\\n\\nHowever, throughout his career, Kanye has also been known for making controversial statements and engaging in public feuds with other celebrities and figures in the entertainment industry. These actions, while generating headlines and keeping him in the limelight, have sometimes overshadowed his musical accomplishments and raised questions about his reputation.\\n\\nA particularly notable example is Kanye's support for former US President Donald Trump and his controversial comments during a 2018 Saturday Night Live appearance, where he made an unscheduled announcement that he would run for president in 2020. These actions sparked intense backlash from fans and critics alike, and many saw it as a betrayal of Kanye's previous progressive political stance.\\n\\nThe impact of such events on Kanye West's legacy is a matter of ongoing debate. Some argue that his controversial actions and statements serve to humanize him and add complexity to his public persona, while others believe that they undermine his artistic achievements and detract from the positive aspects of his career. Ultimately, it will be up to history to determine how Kanye West's legacy is remembered, but there is no denying that his willingness to push boundaries and speak his mind has made him a unique and influential figure in popular culture.\""
      ]
     },
     "execution_count": 5,
     "metadata": {},
     "output_type": "execute_result"
    }
   ],
   "source": [
    "llm.invoke(\"How does this effect Kanyes legacy?\")"
   ]
  },
  {
   "cell_type": "code",
   "execution_count": 3,
   "id": "4a752f3e-6e2d-430f-b75f-7582d39cf70c",
   "metadata": {},
   "outputs": [],
   "source": [
    "#Guiding its response with a prompt template. \n",
    "from langchain_core.prompts import ChatPromptTemplate\n",
    "prompt = ChatPromptTemplate.from_messages([\n",
    "    (\"system\", \"You are a world class technical documetation write.\"),\n",
    "    (\"user\", \"{input}\")\n",
    "])"
   ]
  },
  {
   "cell_type": "code",
   "execution_count": 4,
   "id": "ae72d89f-2d78-447b-8da2-550f072abc1c",
   "metadata": {},
   "outputs": [],
   "source": [
    "chain = prompt | llm"
   ]
  },
  {
   "cell_type": "code",
   "execution_count": 5,
   "id": "b2c9686d-a066-42a1-a64a-6a50c05e6294",
   "metadata": {},
   "outputs": [
    {
     "data": {
      "text/plain": [
       "\" Langsmith, being a text-based AI model, doesn't directly interact with or perform tests on software or systems. However, it can assist in various ways to make your testing process more effective and efficient:\\n\\n1. Writing Test Cases: Langsmith can help you write clear, concise, and comprehensive test cases based on functional requirements and user stories. It can ensure that all edge cases, pre-conditions, post-conditions, and expected results are captured.\\n\\n2. Generating Test Data: You can use Langsmith to generate large amounts of test data for your testing process. This could include generating random or specific test data depending on your requirements.\\n\\n3. Creating Test Plans: Langsmith can help you create detailed test plans outlining the entire testing approach, including testing objectives, strategies, schedules, resources, and expected outcomes.\\n\\n4. Documentation: After tests have been executed, Langsmith can help you document and report on the results in a clear, concise, and comprehensive manner. It can also generate reports and visualizations to make it easier for stakeholders to understand the testing results.\\n\\n5. Automating Test Scripts: While Langsmith itself cannot automate test scripts, it can certainly help you draft and write them using your preferred scripting language or test automation framework. This includes creating steps, expected outcomes, and handling edge cases in test scripts.\\n\\n6. Debugging and Problem Solving: When issues are encountered during testing, Langsmith can be used to research, analyze, and document the problem in detail. It can also help you draft potential solutions or workarounds for the issue.\\n\\n7. Collaboration: During the testing process, Langsmith can facilitate collaboration by creating and updating documentation, sharing test results, and allowing team members to provide feedback and suggestions.\\n\\n8. Creating Test Scenarios: Langsmith can help you design and write test scenarios based on user stories and functional requirements. It can also ensure that all important test cases are covered in each scenario.\""
      ]
     },
     "execution_count": 5,
     "metadata": {},
     "output_type": "execute_result"
    }
   ],
   "source": [
    "chain.invoke({\"input\": \"how can langsmith help with testing?\"})"
   ]
  },
  {
   "cell_type": "code",
   "execution_count": 6,
   "id": "2bc74a5f-1474-4eab-9572-6990eb225de6",
   "metadata": {},
   "outputs": [],
   "source": [
    "#Adding a simple output parser to convert the chat message to a string.\n",
    "from langchain_core.output_parsers import StrOutputParser\n",
    "\n",
    "output_parser = StrOutputParser()"
   ]
  },
  {
   "cell_type": "code",
   "execution_count": 7,
   "id": "f1a7c43b-0614-4651-89f0-44513a491c11",
   "metadata": {},
   "outputs": [],
   "source": [
    "chain = prompt | llm | output_parser"
   ]
  },
  {
   "cell_type": "code",
   "execution_count": 8,
   "id": "81ba7335-eb8a-4e52-a14f-82d2f4018726",
   "metadata": {},
   "outputs": [
    {
     "data": {
      "text/plain": [
       "\" Langsmith, being a text-generation model like myself, doesn't directly interact with or perform tests in a traditional sense. However, it can significantly assist in various aspects of the testing process by generating test cases, documenting test results, and creating test reports. Here's how:\\n\\n1. Test case generation: Langsmith can help create test cases based on user stories, requirements specifications, or even existing code. It can generate a wide range of inputs, edge cases, and boundary conditions to ensure thorough testing of software.\\n\\n2. Documenting test results: Langsmith can document the results of tests in clear, concise, and organized formats like tables or reports, making it easier for developers and stakeholders to understand the impact of each test case and identify any issues that need to be addressed.\\n\\n3. Creating test scripts and instructions: Langsmith can also create test scripts and detailed instructions for executing tests manually or automatically using tools like Selenium. This can save time and reduce errors during the testing process.\\n\\n4. Test summary reports: Langsmith can generate summary reports that highlight any failed tests, bugs found, and suggestions for fixing issues. These reports can be easily shared with team members, stakeholders, or management to keep everyone informed of testing progress and status.\\n\\n5. Exploratory testing: In some cases, Langsmith can even help generate potential test scenarios based on existing code or user stories during exploratory testing sessions. By generating a wide range of possible test inputs, it can assist testers in discovering hidden issues or edge cases that might have been overlooked otherwise.\\n\\n6. Regression testing: During regression testing, Langsmith can generate input data and test scenarios to ensure that previously fixed bugs don't reoccur. It can also document the results of these tests and provide detailed reports on any new issues found.\""
      ]
     },
     "execution_count": 8,
     "metadata": {},
     "output_type": "execute_result"
    }
   ],
   "source": [
    "chain.invoke({\"input\": \"how can langsmith help with testing?\"})"
   ]
  },
  {
   "cell_type": "code",
   "execution_count": 9,
   "id": "8ef4b341-f108-4e43-a86e-32074bd3c101",
   "metadata": {},
   "outputs": [
    {
     "name": "stdout",
     "output_type": "stream",
     "text": [
      "Requirement already satisfied: beautifulsoup4 in c:\\users\\isaac\\appdata\\local\\programs\\python\\python310\\lib\\site-packages (4.12.2)\n"
     ]
    },
    {
     "name": "stderr",
     "output_type": "stream",
     "text": [
      "ERROR: Could not find a version that satisfies the requirement pwd (from versions: none)\n",
      "ERROR: No matching distribution found for pwd\n"
     ]
    }
   ],
   "source": [
    "#Using a Retriever to fetch only the most relevant pieces of information\n",
    "!pip install beautifulsoup4 pwd"
   ]
  },
  {
   "cell_type": "code",
   "execution_count": 10,
   "id": "799a9847-d34d-4b1a-b57e-b7c098688019",
   "metadata": {},
   "outputs": [
    {
     "ename": "ModuleNotFoundError",
     "evalue": "No module named 'pwd'",
     "output_type": "error",
     "traceback": [
      "\u001b[1;31m---------------------------------------------------------------------------\u001b[0m",
      "\u001b[1;31mModuleNotFoundError\u001b[0m                       Traceback (most recent call last)",
      "Cell \u001b[1;32mIn[10], line 2\u001b[0m\n\u001b[0;32m      1\u001b[0m \u001b[38;5;66;03m#Importing and using a WebBaseLoader\u001b[39;00m\n\u001b[1;32m----> 2\u001b[0m \u001b[38;5;28;01mfrom\u001b[39;00m \u001b[38;5;21;01mlangchain_community\u001b[39;00m\u001b[38;5;21;01m.\u001b[39;00m\u001b[38;5;21;01mdocument_loaders\u001b[39;00m \u001b[38;5;28;01mimport\u001b[39;00m WebBaseLoader\n\u001b[0;32m      3\u001b[0m loader \u001b[38;5;241m=\u001b[39m WebBaseLoader(\u001b[38;5;124m\"\u001b[39m\u001b[38;5;124mhttps://docs.smith.langchain.com\u001b[39m\u001b[38;5;124m\"\u001b[39m)\n\u001b[0;32m      5\u001b[0m docs \u001b[38;5;241m=\u001b[39m loader\u001b[38;5;241m.\u001b[39mload()\n",
      "File \u001b[1;32m~\\AppData\\Local\\Programs\\Python\\Python310\\lib\\site-packages\\langchain_community\\document_loaders\\__init__.py:163\u001b[0m\n\u001b[0;32m    149\u001b[0m \u001b[38;5;28;01mfrom\u001b[39;00m \u001b[38;5;21;01mlangchain_community\u001b[39;00m\u001b[38;5;21;01m.\u001b[39;00m\u001b[38;5;21;01mdocument_loaders\u001b[39;00m\u001b[38;5;21;01m.\u001b[39;00m\u001b[38;5;21;01morg_mode\u001b[39;00m \u001b[38;5;28;01mimport\u001b[39;00m UnstructuredOrgModeLoader\n\u001b[0;32m    150\u001b[0m \u001b[38;5;28;01mfrom\u001b[39;00m \u001b[38;5;21;01mlangchain_community\u001b[39;00m\u001b[38;5;21;01m.\u001b[39;00m\u001b[38;5;21;01mdocument_loaders\u001b[39;00m\u001b[38;5;21;01m.\u001b[39;00m\u001b[38;5;21;01mpdf\u001b[39;00m \u001b[38;5;28;01mimport\u001b[39;00m (\n\u001b[0;32m    151\u001b[0m     AmazonTextractPDFLoader,\n\u001b[0;32m    152\u001b[0m     MathpixPDFLoader,\n\u001b[1;32m   (...)\u001b[0m\n\u001b[0;32m    161\u001b[0m     UnstructuredPDFLoader,\n\u001b[0;32m    162\u001b[0m )\n\u001b[1;32m--> 163\u001b[0m \u001b[38;5;28;01mfrom\u001b[39;00m \u001b[38;5;21;01mlangchain_community\u001b[39;00m\u001b[38;5;21;01m.\u001b[39;00m\u001b[38;5;21;01mdocument_loaders\u001b[39;00m\u001b[38;5;21;01m.\u001b[39;00m\u001b[38;5;21;01mpebblo\u001b[39;00m \u001b[38;5;28;01mimport\u001b[39;00m PebbloSafeLoader\n\u001b[0;32m    164\u001b[0m \u001b[38;5;28;01mfrom\u001b[39;00m \u001b[38;5;21;01mlangchain_community\u001b[39;00m\u001b[38;5;21;01m.\u001b[39;00m\u001b[38;5;21;01mdocument_loaders\u001b[39;00m\u001b[38;5;21;01m.\u001b[39;00m\u001b[38;5;21;01mpolars_dataframe\u001b[39;00m \u001b[38;5;28;01mimport\u001b[39;00m PolarsDataFrameLoader\n\u001b[0;32m    165\u001b[0m \u001b[38;5;28;01mfrom\u001b[39;00m \u001b[38;5;21;01mlangchain_community\u001b[39;00m\u001b[38;5;21;01m.\u001b[39;00m\u001b[38;5;21;01mdocument_loaders\u001b[39;00m\u001b[38;5;21;01m.\u001b[39;00m\u001b[38;5;21;01mpowerpoint\u001b[39;00m \u001b[38;5;28;01mimport\u001b[39;00m UnstructuredPowerPointLoader\n",
      "File \u001b[1;32m~\\AppData\\Local\\Programs\\Python\\Python310\\lib\\site-packages\\langchain_community\\document_loaders\\pebblo.py:5\u001b[0m\n\u001b[0;32m      3\u001b[0m \u001b[38;5;28;01mimport\u001b[39;00m \u001b[38;5;21;01mlogging\u001b[39;00m\n\u001b[0;32m      4\u001b[0m \u001b[38;5;28;01mimport\u001b[39;00m \u001b[38;5;21;01mos\u001b[39;00m\n\u001b[1;32m----> 5\u001b[0m \u001b[38;5;28;01mimport\u001b[39;00m \u001b[38;5;21;01mpwd\u001b[39;00m\n\u001b[0;32m      6\u001b[0m \u001b[38;5;28;01mimport\u001b[39;00m \u001b[38;5;21;01muuid\u001b[39;00m\n\u001b[0;32m      7\u001b[0m \u001b[38;5;28;01mfrom\u001b[39;00m \u001b[38;5;21;01mhttp\u001b[39;00m \u001b[38;5;28;01mimport\u001b[39;00m HTTPStatus\n",
      "\u001b[1;31mModuleNotFoundError\u001b[0m: No module named 'pwd'"
     ]
    }
   ],
   "source": [
    "#Importing and using a WebBaseLoader\n",
    "from langchain_community.document_loaders import WebBaseLoader\n",
    "loader = WebBaseLoader(\"https://docs.smith.langchain.com\")\n",
    "\n",
    "docs = loader.load()"
   ]
  },
  {
   "cell_type": "code",
   "execution_count": 11,
   "id": "b4c0416d-eb38-4887-86c9-d309c263e417",
   "metadata": {},
   "outputs": [],
   "source": [
    "from langchain_community.embeddings import OllamaEmbeddings\n",
    "\n",
    "embeddings = OllamaEmbeddings()"
   ]
  },
  {
   "cell_type": "code",
   "execution_count": 12,
   "id": "62110a4a-c3b8-4402-99ec-245c62e52ed8",
   "metadata": {},
   "outputs": [
    {
     "name": "stdout",
     "output_type": "stream",
     "text": [
      "Requirement already satisfied: faiss-cpu in c:\\users\\isaac\\appdata\\local\\programs\\python\\python310\\lib\\site-packages (1.7.4)\n"
     ]
    }
   ],
   "source": [
    "!pip install faiss-cpu"
   ]
  },
  {
   "cell_type": "code",
   "execution_count": 24,
   "id": "6177ff8d-ac52-4e80-b719-0a5ff10cfdd8",
   "metadata": {},
   "outputs": [
    {
     "ename": "NameError",
     "evalue": "name 'docs' is not defined",
     "output_type": "error",
     "traceback": [
      "\u001b[1;31m---------------------------------------------------------------------------\u001b[0m",
      "\u001b[1;31mNameError\u001b[0m                                 Traceback (most recent call last)",
      "Cell \u001b[1;32mIn[24], line 5\u001b[0m\n\u001b[0;32m      2\u001b[0m \u001b[38;5;28;01mfrom\u001b[39;00m \u001b[38;5;21;01mlangchain\u001b[39;00m\u001b[38;5;21;01m.\u001b[39;00m\u001b[38;5;21;01mtext_splitter\u001b[39;00m \u001b[38;5;28;01mimport\u001b[39;00m RecursiveCharacterTextSplitter\n\u001b[0;32m      4\u001b[0m text_splitter \u001b[38;5;241m=\u001b[39m RecursiveCharacterTextSplitter()\n\u001b[1;32m----> 5\u001b[0m documents \u001b[38;5;241m=\u001b[39m text_splitter\u001b[38;5;241m.\u001b[39msplit_documents(\u001b[43mdocs\u001b[49m)\n\u001b[0;32m      6\u001b[0m vector \u001b[38;5;241m=\u001b[39m FAISS\u001b[38;5;241m.\u001b[39mfrom_documents(documents, embeddings)\n",
      "\u001b[1;31mNameError\u001b[0m: name 'docs' is not defined"
     ]
    }
   ],
   "source": [
    "from langchain_community.vectorstores import FAISS\n",
    "from langchain.text_splitter import RecursiveCharacterTextSplitter\n",
    "\n",
    "text_splitter = RecursiveCharacterTextSplitter()\n",
    "documents = text_splitter.split_documents(docs)\n",
    "vector = FAISS.from_documents(documents, embeddings)"
   ]
  },
  {
   "cell_type": "code",
   "execution_count": null,
   "id": "fd8d7633-490a-4440-a06a-29b384b3e8a2",
   "metadata": {},
   "outputs": [],
   "source": []
  }
 ],
 "metadata": {
  "kernelspec": {
   "display_name": "Python 3 (ipykernel)",
   "language": "python",
   "name": "python3"
  },
  "language_info": {
   "codemirror_mode": {
    "name": "ipython",
    "version": 3
   },
   "file_extension": ".py",
   "mimetype": "text/x-python",
   "name": "python",
   "nbconvert_exporter": "python",
   "pygments_lexer": "ipython3",
   "version": "3.10.6"
  }
 },
 "nbformat": 4,
 "nbformat_minor": 5
}
