{
 "cells": [
  {
   "cell_type": "code",
   "execution_count": 1,
   "id": "63c41fde",
   "metadata": {},
   "outputs": [],
   "source": [
    "#Function to clean strings!\n",
    "import re\n",
    "\n",
    "def clean_strings(strings):\n",
    "    result = []\n",
    "    for value in strings:\n",
    "        value = value.strip()\n",
    "        value = re.sub(\"[!#?]\", \"\", value)\n",
    "        value = value.title()\n",
    "        result.append(value)\n",
    "    return result"
   ]
  },
  {
   "cell_type": "code",
   "execution_count": 2,
   "id": "63561824",
   "metadata": {},
   "outputs": [],
   "source": [
    "In [193]: states = [\"   Alabama \", \"Georgia!\", \"Georgia\", \"georgia\", \"FlOrIda\", \"south   carolina##\", \"West virginia?\"]"
   ]
  },
  {
   "cell_type": "code",
   "execution_count": 3,
   "id": "b716e656",
   "metadata": {},
   "outputs": [
    {
     "data": {
      "text/plain": [
       "['Alabama',\n",
       " 'Georgia',\n",
       " 'Georgia',\n",
       " 'Georgia',\n",
       " 'Florida',\n",
       " 'South   Carolina',\n",
       " 'West Virginia']"
      ]
     },
     "execution_count": 3,
     "metadata": {},
     "output_type": "execute_result"
    }
   ],
   "source": [
    "clean_strings(states)"
   ]
  },
  {
   "cell_type": "code",
   "execution_count": 4,
   "id": "bc10399e",
   "metadata": {},
   "outputs": [],
   "source": [
    "isaac = [\"Games\",\"Books\", \"CoFFee\", \"Philosophy\", \"OCCULT\", \"SPACe\"]"
   ]
  },
  {
   "cell_type": "code",
   "execution_count": 5,
   "id": "7eb13cd1",
   "metadata": {},
   "outputs": [
    {
     "data": {
      "text/plain": [
       "['Games', 'Books', 'Coffee', 'Philosophy', 'Occult', 'Space']"
      ]
     },
     "execution_count": 5,
     "metadata": {},
     "output_type": "execute_result"
    }
   ],
   "source": [
    "clean_strings(isaac)"
   ]
  },
  {
   "cell_type": "code",
   "execution_count": 6,
   "id": "9abbb1b9",
   "metadata": {},
   "outputs": [
    {
     "data": {
      "text/plain": [
       "['Games', 'Books', 'CoFFee', 'Philosophy', 'OCCULT', 'SPACe']"
      ]
     },
     "execution_count": 6,
     "metadata": {},
     "output_type": "execute_result"
    }
   ],
   "source": [
    "isaac"
   ]
  },
  {
   "cell_type": "code",
   "execution_count": 7,
   "id": "ea4f59d7",
   "metadata": {},
   "outputs": [],
   "source": [
    "isaac = clean_strings(isaac)"
   ]
  },
  {
   "cell_type": "code",
   "execution_count": 8,
   "id": "17fe978a",
   "metadata": {},
   "outputs": [
    {
     "data": {
      "text/plain": [
       "['Games', 'Books', 'Coffee', 'Philosophy', 'Occult', 'Space']"
      ]
     },
     "execution_count": 8,
     "metadata": {},
     "output_type": "execute_result"
    }
   ],
   "source": [
    "isaac"
   ]
  },
  {
   "cell_type": "code",
   "execution_count": 11,
   "id": "8b83a67e",
   "metadata": {},
   "outputs": [],
   "source": [
    "# another approach is to make a list of operations I want to apply to a particular set of strings. \n",
    "def remove_punctuation(value):\n",
    "    return re.sub(\"[!#?]\", \"\", value)\n",
    "\n",
    "clean_ops = [str.strip, remove_punctuation, str.title]\n",
    "\n",
    "def clean_strings(strings, ops):\n",
    "    result = []\n",
    "    for value in strings:\n",
    "        for func in ops:\n",
    "            value = func(value)\n",
    "        result.append(value)\n",
    "    return result"
   ]
  },
  {
   "cell_type": "code",
   "execution_count": null,
   "id": "3bc4963b",
   "metadata": {},
   "outputs": [],
   "source": []
  }
 ],
 "metadata": {
  "kernelspec": {
   "display_name": "Python 3 (ipykernel)",
   "language": "python",
   "name": "python3"
  },
  "language_info": {
   "codemirror_mode": {
    "name": "ipython",
    "version": 3
   },
   "file_extension": ".py",
   "mimetype": "text/x-python",
   "name": "python",
   "nbconvert_exporter": "python",
   "pygments_lexer": "ipython3",
   "version": "3.9.18"
  }
 },
 "nbformat": 4,
 "nbformat_minor": 5
}
