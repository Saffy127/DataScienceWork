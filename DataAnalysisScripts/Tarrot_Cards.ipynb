{
 "cells": [
  {
   "cell_type": "code",
   "execution_count": 5,
   "id": "de900d68",
   "metadata": {},
   "outputs": [
    {
     "name": "stdout",
     "output_type": "stream",
     "text": [
      "Your card is: The Magician\n",
      "Interpretation: Willpower, desire, creation, manifestation\n"
     ]
    }
   ],
   "source": [
    "import random\n",
    "\n",
    "# Tarot cards and their interpretations\n",
    "tarot_cards = {\n",
    "    \"The Fool\": \"New beginnings, optimism, trust in life\",\n",
    "    \"The Magician\": \"Willpower, desire, creation, manifestation\",\n",
    "    \"The High Priestess\": \"Intuition, unconscious knowledge, mystery\",\n",
    "    \"The Empress\": \"Femininity, beauty, nature, nurturing\",\n",
    "    \"The Emperor\": \"Authority, structure, control, fatherhood\",\n",
    "    \"The Hierophant\": \"Tradition, conformity, morality, ethics\",\n",
    "    \"The Lovers\": \"Relationships, choices, alignment of values\",\n",
    "    \"The Chariot\": \"Direction, control, willpower\",\n",
    "    \"Strength\": \"Courage, persuasion, influence, compassion\",\n",
    "    \"The Hermit\": \"Introspection, solitude, search for truth\",\n",
    "    \"Wheel of Fortune\": \"Cycles, change, ups and downs\",\n",
    "    \"Justice\": \"Fairness, truth, law, cause and effect\",\n",
    "    \"The Hanged Man\": \"Sacrifice, release, martyrdom\",\n",
    "    \"Death\": \"End of cycle, beginnings, change, metamorphosis\",\n",
    "    \"Temperance\": \"Middle path, patience, finding meaning\",\n",
    "    \"The Devil\": \"Addiction, materialism, playfulness\",\n",
    "    \"The Tower\": \"Sudden change, upheaval, chaos\",\n",
    "    \"The Star\": \"Hope, faith, rejuvenation\",\n",
    "    \"The Moon\": \"Illusion, fear, anxiety, insecurity, subconscious\",\n",
    "    \"The Sun\": \"Success, optimism, vitality\",\n",
    "    \"Judgement\": \"Rebirth, judgement, inner calling\",\n",
    "    \"The World\": \"Completion, accomplishment, travel\"\n",
    "}\n",
    "\n",
    "# Function to pick a card and provide an interpretation\n",
    "def pick_a_card():\n",
    "    card = random.choice(list(tarot_cards.keys()))\n",
    "    interpretation = tarot_cards[card]\n",
    "    print(f\"Your card is: {card}\")\n",
    "    print(f\"Interpretation: {interpretation}\")\n",
    "\n",
    "pick_a_card()\n"
   ]
  },
  {
   "cell_type": "code",
   "execution_count": null,
   "id": "0d9f384f",
   "metadata": {},
   "outputs": [],
   "source": []
  }
 ],
 "metadata": {
  "kernelspec": {
   "display_name": "Python 3 (ipykernel)",
   "language": "python",
   "name": "python3"
  },
  "language_info": {
   "codemirror_mode": {
    "name": "ipython",
    "version": 3
   },
   "file_extension": ".py",
   "mimetype": "text/x-python",
   "name": "python",
   "nbconvert_exporter": "python",
   "pygments_lexer": "ipython3",
   "version": "3.9.18"
  }
 },
 "nbformat": 4,
 "nbformat_minor": 5
}
